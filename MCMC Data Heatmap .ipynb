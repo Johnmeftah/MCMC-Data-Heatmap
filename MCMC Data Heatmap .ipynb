{
 "cells": [
  {
   "cell_type": "code",
   "execution_count": null,
   "id": "42205b1f-d0ca-48b0-809f-ddc5c37b6a3e",
   "metadata": {
    "tags": []
   },
   "outputs": [],
   "source": [
    "\n",
    "import pandas as pd\n",
    "import seaborn as sns\n",
    "import matplotlib.pyplot as plt\n",
    "\n",
    "# Read MCMC data from a .mcmc file. Remember that the file has a utf-8 encoding\n",
    "def read_mcmc_data(file_path, encoding='utf-8'):\n",
    "    data = pd.read_csv(file_path, delimiter='\\t', encoding=encoding)  # Specify the encoding here\n",
    "    return data\n",
    "\n",
    "# Path to your .mcmc file\n",
    "file_path = \"/Users/john/Downloads/HD177724.mcmc\"\n",
    "\n",
    "# Read the MCMC data from the .mcmc file\n",
    "try:\n",
    "    mcmc_data = read_mcmc_data(file_path, encoding='utf-8')  # If utf-8 doesn't work, figure out what type of encoding your file has\n",
    "except IOError:\n",
    "    print(\"Error: File not found or could not be read.\") # This is an error msg when the code cannot locate and read your .mcmc file\n",
    "    exit(1)\n",
    "\n",
    "\n",
    "# Create the pair grid with histograms and heat maps for positive values\n",
    "g = sns.PairGrid(data=subset_data, diag_sharey=False)\n",
    "\n",
    "# Map KDE plots in the upper and lower triangles with the 'rocket' color map\n",
    "g.map_upper(sns.kdeplot, cmap='rocket', fill=True, levels=100)\n",
    "g.map_lower(sns.kdeplot, cmap='rocket', fill=True, levels=100)\n",
    "\n",
    "# Map histograms on the diagonal\n",
    "g.map_diag(sns.histplot, kde=False, color=\"#03051A\", bins=25)\n",
    "\n",
    "# Set the background color of the pair grid (since the background is black and black = 0 here)\n",
    "for ax in g.axes.flat:\n",
    "    if isinstance(ax, plt.Axes) and ax.collections:\n",
    "        ax.set_facecolor('#000000')\n",
    "\n",
    "# Create a single color bar below the pair grid\n",
    "cbar_ax = g.fig.add_axes([0.1, -0.1, 0.8, 0.03])  # Adjust the position and size of the color bar\n",
    "cbar = plt.colorbar(g.axes[0, 1].collections[0], cax=cbar_ax, orientation='horizontal', cmap='rocket')  # Set the color map to 'rocket'\n",
    "\n",
    "# Set color of color bar ticks and tick labels to red \n",
    "cbar.ax.tick_params(colors='red')\n",
    "\n",
    "\n",
    "g.fig.suptitle(\"Pair Grid with Heat Maps and Histograms of Our MCMC Data (Positive Values)\", y=1.02)\n",
    "\n",
    "# Adjust the figure size to fit the entire plot\n",
    "g.fig.set_size_inches(12, 10)  \n",
    "\n",
    "# Prevent cropping, vertical edges will be cropped without bbox = tight\n",
    "plt.savefig('Jones_mcmc_data_test.png', dpi=500, bbox_inches='tight')\n",
    "\n",
    "# Show the plot\n",
    "plt.show()\n",
    "\n",
    " "
   ]
  },
  {
   "cell_type": "code",
   "execution_count": null,
   "id": "80d14000-a992-4716-ba47-104518450afa",
   "metadata": {},
   "outputs": [],
   "source": []
  }
 ],
 "metadata": {
  "kernelspec": {
   "display_name": "Python 3 (ipykernel)",
   "language": "python",
   "name": "python3"
  },
  "language_info": {
   "codemirror_mode": {
    "name": "ipython",
    "version": 3
   },
   "file_extension": ".py",
   "mimetype": "text/x-python",
   "name": "python",
   "nbconvert_exporter": "python",
   "pygments_lexer": "ipython3",
   "version": "3.9.16"
  }
 },
 "nbformat": 4,
 "nbformat_minor": 5
}
